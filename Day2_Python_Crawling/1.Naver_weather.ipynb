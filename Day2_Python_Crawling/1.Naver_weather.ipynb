{
 "cells": [
  {
   "cell_type": "markdown",
   "id": "2b18afcd",
   "metadata": {},
   "source": [
    "# Basic of Crawling\n",
    "## Bring weather infomation from Naver"
   ]
  },
  {
   "cell_type": "code",
   "execution_count": 1,
   "id": "dda370d8",
   "metadata": {},
   "outputs": [
    {
     "name": "stdout",
     "output_type": "stream",
     "text": [
      "Requirement already satisfied: selenium in c:\\users\\ywonl\\anaconda3\\lib\\site-packages (4.5.0)\n",
      "Requirement already satisfied: trio-websocket~=0.9 in c:\\users\\ywonl\\anaconda3\\lib\\site-packages (from selenium) (0.9.2)\n",
      "Requirement already satisfied: certifi>=2021.10.8 in c:\\users\\ywonl\\anaconda3\\lib\\site-packages (from selenium) (2022.9.14)\n",
      "Requirement already satisfied: urllib3[socks]~=1.26 in c:\\users\\ywonl\\anaconda3\\lib\\site-packages (from selenium) (1.26.11)\n",
      "Requirement already satisfied: trio~=0.17 in c:\\users\\ywonl\\anaconda3\\lib\\site-packages (from selenium) (0.22.0)\n",
      "Requirement already satisfied: attrs>=19.2.0 in c:\\users\\ywonl\\anaconda3\\lib\\site-packages (from trio~=0.17->selenium) (21.4.0)\n",
      "Requirement already satisfied: sniffio in c:\\users\\ywonl\\anaconda3\\lib\\site-packages (from trio~=0.17->selenium) (1.2.0)\n",
      "Requirement already satisfied: exceptiongroup>=1.0.0rc9 in c:\\users\\ywonl\\anaconda3\\lib\\site-packages (from trio~=0.17->selenium) (1.0.0rc9)\n",
      "Requirement already satisfied: cffi>=1.14 in c:\\users\\ywonl\\anaconda3\\lib\\site-packages (from trio~=0.17->selenium) (1.15.1)\n",
      "Requirement already satisfied: sortedcontainers in c:\\users\\ywonl\\anaconda3\\lib\\site-packages (from trio~=0.17->selenium) (2.4.0)\n",
      "Requirement already satisfied: outcome in c:\\users\\ywonl\\anaconda3\\lib\\site-packages (from trio~=0.17->selenium) (1.2.0)\n",
      "Requirement already satisfied: async-generator>=1.9 in c:\\users\\ywonl\\anaconda3\\lib\\site-packages (from trio~=0.17->selenium) (1.10)\n",
      "Requirement already satisfied: idna in c:\\users\\ywonl\\anaconda3\\lib\\site-packages (from trio~=0.17->selenium) (3.3)\n",
      "Requirement already satisfied: wsproto>=0.14 in c:\\users\\ywonl\\anaconda3\\lib\\site-packages (from trio-websocket~=0.9->selenium) (1.2.0)\n",
      "Requirement already satisfied: PySocks!=1.5.7,<2.0,>=1.5.6 in c:\\users\\ywonl\\anaconda3\\lib\\site-packages (from urllib3[socks]~=1.26->selenium) (1.7.1)\n",
      "Requirement already satisfied: pycparser in c:\\users\\ywonl\\anaconda3\\lib\\site-packages (from cffi>=1.14->trio~=0.17->selenium) (2.21)\n",
      "Requirement already satisfied: h11<1,>=0.9.0 in c:\\users\\ywonl\\anaconda3\\lib\\site-packages (from wsproto>=0.14->trio-websocket~=0.9->selenium) (0.14.0)\n",
      "Note: you may need to restart the kernel to use updated packages.\n"
     ]
    }
   ],
   "source": [
    "pip install selenium"
   ]
  },
  {
   "cell_type": "code",
   "execution_count": 2,
   "id": "70472fe6",
   "metadata": {},
   "outputs": [],
   "source": [
    "from selenium import webdriver"
   ]
  },
  {
   "cell_type": "code",
   "execution_count": 3,
   "id": "5050651c",
   "metadata": {},
   "outputs": [],
   "source": [
    "browser = webdriver.Chrome()"
   ]
  },
  {
   "cell_type": "code",
   "execution_count": 4,
   "id": "a0c2de29",
   "metadata": {},
   "outputs": [],
   "source": [
    "browser.get(\"https://www.naver.com/\")"
   ]
  },
  {
   "cell_type": "code",
   "execution_count": 5,
   "id": "455044b6",
   "metadata": {},
   "outputs": [],
   "source": [
    "from selenium.webdriver.common.by import By"
   ]
  },
  {
   "cell_type": "code",
   "execution_count": 6,
   "id": "f30b61e0",
   "metadata": {},
   "outputs": [],
   "source": [
    "browser.find_element(By.ID, 'query').click()"
   ]
  },
  {
   "cell_type": "code",
   "execution_count": 7,
   "id": "62ae5361",
   "metadata": {},
   "outputs": [],
   "source": [
    "browser.find_element(By.ID, 'query').send_keys(\"날씨\")"
   ]
  },
  {
   "cell_type": "code",
   "execution_count": 8,
   "id": "954bdc99",
   "metadata": {
    "scrolled": true
   },
   "outputs": [],
   "source": [
    "browser.find_element(By.XPATH, '//*[@id=\"search_btn\"]').click()"
   ]
  },
  {
   "cell_type": "code",
   "execution_count": 9,
   "id": "cad8b668",
   "metadata": {},
   "outputs": [],
   "source": [
    "browser.find_element(By.ID, \"nx_query\").clear()"
   ]
  },
  {
   "cell_type": "code",
   "execution_count": 10,
   "id": "8d5358aa",
   "metadata": {},
   "outputs": [],
   "source": [
    "browser.find_element(By.ID, \"nx_query\").send_keys(\"환율\")"
   ]
  },
  {
   "cell_type": "code",
   "execution_count": 11,
   "id": "e0d4fe77",
   "metadata": {},
   "outputs": [],
   "source": [
    "browser.find_element(By.CLASS_NAME, \"bt_search\").click()"
   ]
  },
  {
   "cell_type": "code",
   "execution_count": 12,
   "id": "c586c720",
   "metadata": {},
   "outputs": [
    {
     "data": {
      "text/plain": [
       "'1,425.50'"
      ]
     },
     "execution_count": 12,
     "metadata": {},
     "output_type": "execute_result"
    }
   ],
   "source": [
    "browser.find_element(By.XPATH, '//*[@id=\"_cs_foreigninfo\"]/div/div[2]/div/div[1]/div[1]/div[1]/div[1]/h3/a/span[2]/strong').text"
   ]
  },
  {
   "cell_type": "markdown",
   "id": "bf6109e3",
   "metadata": {},
   "source": [
    "## Google New Crawling"
   ]
  },
  {
   "cell_type": "markdown",
   "id": "37265d60",
   "metadata": {},
   "source": [
    "### Single News Crawling"
   ]
  },
  {
   "cell_type": "code",
   "execution_count": 13,
   "id": "5202e513",
   "metadata": {},
   "outputs": [],
   "source": [
    "browser.get('https://www.google.com/search?q=%EC%9E%90%EB%8F%99%ED%99%94&tbm=nws&source=lnt&tbs=qdr:w&sa=X&ved=2ahUKEwidnImf44L7AhWRP3AKHQz0AS8QpwV6BAgCEB0&biw=1104&bih=899&dpr=1')"
   ]
  },
  {
   "cell_type": "code",
   "execution_count": 14,
   "id": "bc274d0a",
   "metadata": {},
   "outputs": [
    {
     "data": {
      "text/plain": [
       "'산업 자동화 소프트웨어 시장: 2022년에 대한 3가지 대담한 전망 ...'"
      ]
     },
     "execution_count": 14,
     "metadata": {},
     "output_type": "execute_result"
    }
   ],
   "source": [
    "browser.find_element(By.CLASS_NAME, 'mCBkyc').text"
   ]
  },
  {
   "cell_type": "code",
   "execution_count": 15,
   "id": "28efaa09",
   "metadata": {},
   "outputs": [
    {
     "data": {
      "text/plain": [
       "'AMA Research의 최근 추가된 산업용 자동화 소프트웨어 시장 조사 연구는 2027년까지의 자세한 전망과 정교한 시장 검토를 제공합니다. 시장 조사는 시장화를 가속화...'"
      ]
     },
     "execution_count": 15,
     "metadata": {},
     "output_type": "execute_result"
    }
   ],
   "source": [
    "browser.find_element(By.CLASS_NAME, 'GI74Re').text"
   ]
  },
  {
   "cell_type": "code",
   "execution_count": 16,
   "id": "92169c0f",
   "metadata": {
    "scrolled": true
   },
   "outputs": [
    {
     "data": {
      "text/plain": [
       "'https://osaek.info/%EC%86%8C%EC%8B%9D/%EC%82%B0%EC%97%85-%EC%9E%90%EB%8F%99%ED%99%94-%EC%86%8C%ED%94%84%ED%8A%B8%EC%9B%A8%EC%96%B4-%EC%8B%9C%EC%9E%A5-2022%EB%85%84%EC%97%90-%EB%8C%80%ED%95%9C-3%EA%B0%80%EC%A7%80-%EB%8C%80%EB%8B%B4/34008/'"
      ]
     },
     "execution_count": 16,
     "metadata": {},
     "output_type": "execute_result"
    }
   ],
   "source": [
    "browser.find_element(By.CLASS_NAME, 'WlydOe').get_attribute('href')"
   ]
  },
  {
   "cell_type": "markdown",
   "id": "1ba58951",
   "metadata": {},
   "source": [
    "### Multiple News Crawling in a page"
   ]
  },
  {
   "cell_type": "code",
   "execution_count": 22,
   "id": "d10c48e8",
   "metadata": {},
   "outputs": [
    {
     "data": {
      "text/plain": [
       "['산업 자동화 소프트웨어 시장: 2022년에 대한 3가지 대담한 전망 ...',\n",
       " '세일포인트 “AI 기반 자동화된 아이덴티티 보안 방식으로 변화 ...',\n",
       " '[로보월드] 자동차 시트 프레임 검사 자동화 작업자 부담 낮춰',\n",
       " '[AI 기반 제조혁신-②] 조선업계 업황 개선에 인력 부족은 더욱 ...',\n",
       " '롯데홈쇼핑 이천 물류센터 오픈...로봇기반 첨단 자동화시스템 도입',\n",
       " '로봇·오토라벨러·디팔렛타이저 등 홈쇼핑 업계 최초 자동화 시스템 구축 - 조선일보',\n",
       " '워크로드 자동화 소프트웨어 시장 2022 규모 공유 분석 및 ...',\n",
       " \"MS의 B2B 전략 '초자동화 통한 생산성의 극대화' (이그나이트 ...\",\n",
       " '도서관 자동화 서비스 시스템 시장 최고 제조업체 분석 | 2030년 ...',\n",
       " '[비즈&] 롯데홈쇼핑 물류센터에 업계 최초 자동화 시스템 도입 外']"
      ]
     },
     "execution_count": 22,
     "metadata": {},
     "output_type": "execute_result"
    }
   ],
   "source": [
    "titles = browser.find_elements(By.CLASS_NAME, 'mCBkyc')\n",
    "\n",
    "title = []\n",
    "for i in titles: \n",
    "    title.append(i.text)\n",
    "\n",
    "new_title = [element.replace(',','') for element in title]\n",
    "\n",
    "new_title"
   ]
  },
  {
   "cell_type": "code",
   "execution_count": 23,
   "id": "56f79da1",
   "metadata": {},
   "outputs": [
    {
     "data": {
      "text/plain": [
       "['AMA Research의 최근 추가된 산업용 자동화 소프트웨어 시장 조사 연구는 2027년까지의 자세한 전망과 정교한 시장 검토를 제공합니다. 시장 조사는 시장화를 가속화...',\n",
       " '“이제는 인간의 능력으로 관리하기에는 너무 많은 아이덴티티가 존재하기 때문에 도구 특히 자동화된 도구화에 의존해야 한다.” 글로벌 엔터프라이즈 아이덴티티 보안...',\n",
       " '[로보월드] 자동차 시트 프레임 검사 자동화 작업자 부담 낮춰. 로봇에 카메라 부착해 치수 패드 부착 등 확인. 기사입력 2022-10-28 17:15:58.',\n",
       " '조선3사의 경우 이러한 인력난을 타개하기 위해 최근 무인자율운향 스마트조선소를 추진하고 있다. 특히 많은 용접 작업이 수행되는 공정 특성상 용접용 로봇 자동화...',\n",
       " '이들은 오픈식 이후 물류센터를 함께 둘러보고 자동화 설비를 시연하는 투어를 진행했다. 이 대표는 축사를 통해 “자동화 물류 시스템 도입은 롯데홈쇼핑의 물류 역량을 한...',\n",
       " '롯데홈쇼핑은 지난 21일 물류센터를 기존 경기도 군포에서 이천으로 확장 이전하고 홈쇼핑 업계 최초로 자동화 시스템을 구축했다.',\n",
       " '글로벌 워크로드 자동화 소프트웨어 시장 규모 연구 보고서 2022는 시장의 미래 전망 및 현재 전망을 이해하기 위한 수익 성장 시장 정의 세분화 산업 잠재력...',\n",
       " '초자동화는 품질 주기 시간 효율성 또는 민첩성에 중점을 둔 구현 기술과 결합된 비즈니스 프로세스를 융합하는 것이다. 이 모든 기반의 근간에는 데이터를 어떻게...',\n",
       " '2022년 시장은 도서관 자동화 서비스 시스템에게 또 다른 중요한 해가 될 수 있습니다. 이 보고서는 회사의 활동 및 재무 상태(자본을 늘리거나 투자자를 확보하려는 경우...',\n",
       " '롯데홈쇼핑이 경기도 이천에 업계 최초로 자동화 시스템을 도입한 물류센터를 열었습니다. 자율주행 기반의 로봇을 도입하고 8134평 규모의 단층 구조 원라인 시스템으로...']"
      ]
     },
     "execution_count": 23,
     "metadata": {},
     "output_type": "execute_result"
    }
   ],
   "source": [
    "contents = browser.find_elements(By.CLASS_NAME, 'GI74Re')\n",
    "\n",
    "content = []\n",
    "for i in contents:\n",
    "    content.append(i.text)\n",
    "    \n",
    "new_content = [element.replace(',','') for element in content]\n",
    "    \n",
    "new_content"
   ]
  },
  {
   "cell_type": "code",
   "execution_count": 24,
   "id": "d9b98940",
   "metadata": {
    "scrolled": true
   },
   "outputs": [
    {
     "data": {
      "text/plain": [
       "['https://osaek.info/%EC%86%8C%EC%8B%9D/%EC%82%B0%EC%97%85-%EC%9E%90%EB%8F%99%ED%99%94-%EC%86%8C%ED%94%84%ED%8A%B8%EC%9B%A8%EC%96%B4-%EC%8B%9C%EC%9E%A5-2022%EB%85%84%EC%97%90-%EB%8C%80%ED%95%9C-3%EA%B0%80%EC%A7%80-%EB%8C%80%EB%8B%B4/34008/',\n",
       " 'https://byline.network/2022/10/28-251/',\n",
       " 'https://www.kidd.co.kr/news/229877',\n",
       " 'https://www.hellot.net/news/article.html?no=72267',\n",
       " 'https://m.khan.co.kr/economy/market-trend/article/202210241415011',\n",
       " 'https://www.chosun.com/special/special_section/2022/10/27/YQQ7SKPVSFHJZAV24MIMZEW65U/',\n",
       " 'https://osaek.info/%EC%86%8C%EC%8B%9D/%EC%9B%8C%ED%81%AC%EB%A1%9C%EB%93%9C-%EC%9E%90%EB%8F%99%ED%99%94-%EC%86%8C%ED%94%84%ED%8A%B8%EC%9B%A8%EC%96%B4-%EC%8B%9C%EC%9E%A5-2022-%EA%B7%9C%EB%AA%A8-%EA%B3%B5%EC%9C%A0-%EB%B6%84%EC%84%9D/32234/',\n",
       " 'https://slownews.kr/87361',\n",
       " 'https://osaek.info/%EC%86%8C%EC%8B%9D/%EB%8F%84%EC%84%9C%EA%B4%80-%EC%9E%90%EB%8F%99%ED%99%94-%EC%84%9C%EB%B9%84%EC%8A%A4-%EC%8B%9C%EC%8A%A4%ED%85%9C-%EC%8B%9C%EC%9E%A5-%EC%B5%9C%EA%B3%A0-%EC%A0%9C%EC%A1%B0%EC%97%85%EC%B2%B4-%EB%B6%84/31108/',\n",
       " 'https://m.yonhapnewstv.co.kr/news/MYH20221025012900038']"
      ]
     },
     "execution_count": 24,
     "metadata": {},
     "output_type": "execute_result"
    }
   ],
   "source": [
    "links = browser.find_elements(By.CLASS_NAME, 'WlydOe')\n",
    "\n",
    "link = []\n",
    "for i in links: \n",
    "    link.append(i.get_attribute('href'))\n",
    "    \n",
    "link"
   ]
  },
  {
   "cell_type": "code",
   "execution_count": null,
   "id": "459075aa",
   "metadata": {},
   "outputs": [],
   "source": [
    "file = open(\"test.csv\", \"a\", encoding=\"UTF-8-sig\")\n",
    "file.write(\"{}, {}, {} \\n\".format(\"제목\", \"내용\", \"링크\"))\n",
    "file.write(\"{}, {}, {} \\n\".format(\"제목2\", \"내용2\", \"링크2\"))\n",
    "file.close()"
   ]
  },
  {
   "cell_type": "code",
   "execution_count": 26,
   "id": "2da2b034",
   "metadata": {},
   "outputs": [],
   "source": [
    "file = open(\"Google_crawling.csv\", \"a\", encoding=\"UTF-8-sig\")\n",
    "\n",
    "for i in range(len(title)):\n",
    "    file.write(\"{}, {}, {} \\n\".format(new_title[i], new_content[i], link[i]))\n",
    "\n",
    "file.close()"
   ]
  }
 ],
 "metadata": {
  "kernelspec": {
   "display_name": "Python 3 (ipykernel)",
   "language": "python",
   "name": "python3"
  },
  "language_info": {
   "codemirror_mode": {
    "name": "ipython",
    "version": 3
   },
   "file_extension": ".py",
   "mimetype": "text/x-python",
   "name": "python",
   "nbconvert_exporter": "python",
   "pygments_lexer": "ipython3",
   "version": "3.9.13"
  }
 },
 "nbformat": 4,
 "nbformat_minor": 5
}
